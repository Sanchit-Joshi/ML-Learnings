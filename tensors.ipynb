{
 "cells": [
  {
   "cell_type": "code",
   "execution_count": 1,
   "metadata": {},
   "outputs": [],
   "source": [
    "import numpy as np"
   ]
  },
  {
   "cell_type": "code",
   "execution_count": 2,
   "metadata": {},
   "outputs": [
    {
     "data": {
      "text/plain": [
       "array(4)"
      ]
     },
     "execution_count": 2,
     "metadata": {},
     "output_type": "execute_result"
    }
   ],
   "source": [
    "a = np.array(4)\n",
    "a"
   ]
  },
  {
   "cell_type": "code",
   "execution_count": 4,
   "metadata": {},
   "outputs": [
    {
     "data": {
      "text/plain": [
       "0"
      ]
     },
     "execution_count": 4,
     "metadata": {},
     "output_type": "execute_result"
    }
   ],
   "source": [
    "a.ndim"
   ]
  },
  {
   "cell_type": "code",
   "execution_count": 13,
   "metadata": {},
   "outputs": [
    {
     "name": "stdout",
     "output_type": "stream",
     "text": [
      "[[1 2 3]\n",
      " [4 5 6]\n",
      " [4 5 0]]\n",
      "Shape of the tensor: (3, 3)\n",
      "Size of the tensor: 9\n",
      "Data type of the tensor: int32\n"
     ]
    }
   ],
   "source": [
    "mat = np.array([[1,2,3],[4,5,6],[4,5,0]])\n",
    "print(mat)\n",
    "# Shape of the tensor\n",
    "print(\"Shape of the tensor:\", mat.shape)\n",
    "\n",
    "# Size of the tensor\n",
    "print(\"Size of the tensor:\", mat.size)\n",
    "\n",
    "# Data type of the tensor\n",
    "print(\"Data type of the tensor:\", mat.dtype)"
   ]
  },
  {
   "cell_type": "code",
   "execution_count": 14,
   "metadata": {},
   "outputs": [
    {
     "name": "stdout",
     "output_type": "stream",
     "text": [
      "\n",
      "3D Tensor:\n",
      "[[[ 1  2]\n",
      "  [ 3  4]\n",
      "  [ 5  6]]\n",
      "\n",
      " [[ 7  8]\n",
      "  [ 9 10]\n",
      "  [11 12]]]\n",
      "Dimension of the 3D tensor: 3\n",
      "Shape of the 3D tensor: (2, 3, 2)\n",
      "Size of the 3D tensor: 12\n",
      "Data type of the 3D tensor: int32\n"
     ]
    }
   ],
   "source": [
    "tensor_3d = np.array([[[1,2],[3,4],[5,6]],[[7,8],[9,10],[11,12]]])\n",
    "print(\"\\n3D Tensor:\")\n",
    "print(tensor_3d)\n",
    "\n",
    "print(\"Dimension of the 3D tensor:\", tensor_3d.ndim)\n",
    "print(\"Shape of the 3D tensor:\", tensor_3d.shape)\n",
    "print(\"Size of the 3D tensor:\", tensor_3d.size)\n",
    "print(\"Data type of the 3D tensor:\", tensor_3d.dtype)"
   ]
  },
  {
   "cell_type": "code",
   "execution_count": 16,
   "metadata": {},
   "outputs": [
    {
     "data": {
      "text/plain": [
       "array([[[[[ 1,  2],\n",
       "          [ 3,  4]],\n",
       "\n",
       "         [[ 5,  6],\n",
       "          [ 7,  8]]],\n",
       "\n",
       "\n",
       "        [[[ 9, 10],\n",
       "          [11, 12]],\n",
       "\n",
       "         [[13, 14],\n",
       "          [15, 16]]]],\n",
       "\n",
       "\n",
       "\n",
       "       [[[[17, 18],\n",
       "          [19, 20]],\n",
       "\n",
       "         [[21, 22],\n",
       "          [23, 24]]],\n",
       "\n",
       "\n",
       "        [[[25, 26],\n",
       "          [27, 28]],\n",
       "\n",
       "         [[29, 30],\n",
       "          [31, 32]]]]])"
      ]
     },
     "execution_count": 16,
     "metadata": {},
     "output_type": "execute_result"
    }
   ],
   "source": [
    "tensor_5d = np.array([[[[[1,2],[3,4]],[[5,6],[7,8]]],[[[9,10],[11,12]],[[13,14],[15,16]]]],[[[[17,18],[19,20]],[[21,22],[23,24]]],[[[25,26],[27,28]],[[29,30],[31,32]]]]])\n",
    "tensor_5d"
   ]
  }
 ],
 "metadata": {
  "kernelspec": {
   "display_name": "Python 3",
   "language": "python",
   "name": "python3"
  },
  "language_info": {
   "codemirror_mode": {
    "name": "ipython",
    "version": 3
   },
   "file_extension": ".py",
   "mimetype": "text/x-python",
   "name": "python",
   "nbconvert_exporter": "python",
   "pygments_lexer": "ipython3",
   "version": "3.11.3"
  }
 },
 "nbformat": 4,
 "nbformat_minor": 2
}
